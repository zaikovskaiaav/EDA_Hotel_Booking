{
 "cells": [
  {
   "cell_type": "markdown",
   "metadata": {
    "pycharm": {
     "name": "#%%\n"
    }
   },
   "source": [
    "# Исследовательский анализ данных - Бронирование отелей"
   ]
  },
  {
   "cell_type": "code",
   "execution_count": 401,
   "metadata": {
    "scrolled": true
   },
   "outputs": [],
   "source": [
    "import pandas as pd\n",
    "import seaborn as sns\n",
    "import numpy as np\n",
    "import matplotlib.pyplot as plt"
   ]
  },
  {
   "cell_type": "markdown",
   "metadata": {},
   "source": [
    "## 1. Определение структуры данных"
   ]
  },
  {
   "cell_type": "markdown",
   "metadata": {},
   "source": [
    "### 1.1 Чтение данных"
   ]
  },
  {
   "cell_type": "code",
   "execution_count": 257,
   "metadata": {
    "scrolled": true
   },
   "outputs": [
    {
     "data": {
      "text/html": [
       "<div>\n",
       "<style scoped>\n",
       "    .dataframe tbody tr th:only-of-type {\n",
       "        vertical-align: middle;\n",
       "    }\n",
       "\n",
       "    .dataframe tbody tr th {\n",
       "        vertical-align: top;\n",
       "    }\n",
       "\n",
       "    .dataframe thead th {\n",
       "        text-align: right;\n",
       "    }\n",
       "</style>\n",
       "<table border=\"1\" class=\"dataframe\">\n",
       "  <thead>\n",
       "    <tr style=\"text-align: right;\">\n",
       "      <th></th>\n",
       "      <th>hotel</th>\n",
       "      <th>is_canceled</th>\n",
       "      <th>lead_time</th>\n",
       "      <th>arrival_date_year</th>\n",
       "      <th>arrival_date_month</th>\n",
       "      <th>arrival_date_week_number</th>\n",
       "      <th>arrival_date_day_of_month</th>\n",
       "      <th>stays_in_weekend_nights</th>\n",
       "      <th>stays_in_week_nights</th>\n",
       "      <th>adults</th>\n",
       "      <th>...</th>\n",
       "      <th>customer_type</th>\n",
       "      <th>adr</th>\n",
       "      <th>required_car_parking_spaces</th>\n",
       "      <th>total_of_special_requests</th>\n",
       "      <th>reservation_status</th>\n",
       "      <th>reservation_status_date</th>\n",
       "      <th>name</th>\n",
       "      <th>email</th>\n",
       "      <th>phone-number</th>\n",
       "      <th>credit_card</th>\n",
       "    </tr>\n",
       "  </thead>\n",
       "  <tbody>\n",
       "    <tr>\n",
       "      <th>0</th>\n",
       "      <td>Resort Hotel</td>\n",
       "      <td>0</td>\n",
       "      <td>342</td>\n",
       "      <td>2015</td>\n",
       "      <td>July</td>\n",
       "      <td>27</td>\n",
       "      <td>1</td>\n",
       "      <td>0</td>\n",
       "      <td>0</td>\n",
       "      <td>2</td>\n",
       "      <td>...</td>\n",
       "      <td>Transient</td>\n",
       "      <td>0.0</td>\n",
       "      <td>0</td>\n",
       "      <td>0</td>\n",
       "      <td>Check-Out</td>\n",
       "      <td>2015-07-01</td>\n",
       "      <td>Ernest Barnes</td>\n",
       "      <td>Ernest.Barnes31@outlook.com</td>\n",
       "      <td>669-792-1661</td>\n",
       "      <td>************4322</td>\n",
       "    </tr>\n",
       "    <tr>\n",
       "      <th>1</th>\n",
       "      <td>Resort Hotel</td>\n",
       "      <td>0</td>\n",
       "      <td>737</td>\n",
       "      <td>2015</td>\n",
       "      <td>July</td>\n",
       "      <td>27</td>\n",
       "      <td>1</td>\n",
       "      <td>0</td>\n",
       "      <td>0</td>\n",
       "      <td>2</td>\n",
       "      <td>...</td>\n",
       "      <td>Transient</td>\n",
       "      <td>0.0</td>\n",
       "      <td>0</td>\n",
       "      <td>0</td>\n",
       "      <td>Check-Out</td>\n",
       "      <td>2015-07-01</td>\n",
       "      <td>Andrea Baker</td>\n",
       "      <td>Andrea_Baker94@aol.com</td>\n",
       "      <td>858-637-6955</td>\n",
       "      <td>************9157</td>\n",
       "    </tr>\n",
       "    <tr>\n",
       "      <th>2</th>\n",
       "      <td>Resort Hotel</td>\n",
       "      <td>0</td>\n",
       "      <td>7</td>\n",
       "      <td>2015</td>\n",
       "      <td>July</td>\n",
       "      <td>27</td>\n",
       "      <td>1</td>\n",
       "      <td>0</td>\n",
       "      <td>1</td>\n",
       "      <td>1</td>\n",
       "      <td>...</td>\n",
       "      <td>Transient</td>\n",
       "      <td>75.0</td>\n",
       "      <td>0</td>\n",
       "      <td>0</td>\n",
       "      <td>Check-Out</td>\n",
       "      <td>2015-07-02</td>\n",
       "      <td>Rebecca Parker</td>\n",
       "      <td>Rebecca_Parker@comcast.net</td>\n",
       "      <td>652-885-2745</td>\n",
       "      <td>************3734</td>\n",
       "    </tr>\n",
       "    <tr>\n",
       "      <th>3</th>\n",
       "      <td>Resort Hotel</td>\n",
       "      <td>0</td>\n",
       "      <td>13</td>\n",
       "      <td>2015</td>\n",
       "      <td>July</td>\n",
       "      <td>27</td>\n",
       "      <td>1</td>\n",
       "      <td>0</td>\n",
       "      <td>1</td>\n",
       "      <td>1</td>\n",
       "      <td>...</td>\n",
       "      <td>Transient</td>\n",
       "      <td>75.0</td>\n",
       "      <td>0</td>\n",
       "      <td>0</td>\n",
       "      <td>Check-Out</td>\n",
       "      <td>2015-07-02</td>\n",
       "      <td>Laura Murray</td>\n",
       "      <td>Laura_M@gmail.com</td>\n",
       "      <td>364-656-8427</td>\n",
       "      <td>************5677</td>\n",
       "    </tr>\n",
       "    <tr>\n",
       "      <th>4</th>\n",
       "      <td>Resort Hotel</td>\n",
       "      <td>0</td>\n",
       "      <td>14</td>\n",
       "      <td>2015</td>\n",
       "      <td>July</td>\n",
       "      <td>27</td>\n",
       "      <td>1</td>\n",
       "      <td>0</td>\n",
       "      <td>2</td>\n",
       "      <td>2</td>\n",
       "      <td>...</td>\n",
       "      <td>Transient</td>\n",
       "      <td>98.0</td>\n",
       "      <td>0</td>\n",
       "      <td>1</td>\n",
       "      <td>Check-Out</td>\n",
       "      <td>2015-07-03</td>\n",
       "      <td>Linda Hines</td>\n",
       "      <td>LHines@verizon.com</td>\n",
       "      <td>713-226-5883</td>\n",
       "      <td>************5498</td>\n",
       "    </tr>\n",
       "  </tbody>\n",
       "</table>\n",
       "<p>5 rows × 36 columns</p>\n",
       "</div>"
      ],
      "text/plain": [
       "          hotel  is_canceled  lead_time  arrival_date_year arrival_date_month  \\\n",
       "0  Resort Hotel            0        342               2015               July   \n",
       "1  Resort Hotel            0        737               2015               July   \n",
       "2  Resort Hotel            0          7               2015               July   \n",
       "3  Resort Hotel            0         13               2015               July   \n",
       "4  Resort Hotel            0         14               2015               July   \n",
       "\n",
       "   arrival_date_week_number  arrival_date_day_of_month  \\\n",
       "0                        27                          1   \n",
       "1                        27                          1   \n",
       "2                        27                          1   \n",
       "3                        27                          1   \n",
       "4                        27                          1   \n",
       "\n",
       "   stays_in_weekend_nights  stays_in_week_nights  adults  ...  customer_type  \\\n",
       "0                        0                     0       2  ...      Transient   \n",
       "1                        0                     0       2  ...      Transient   \n",
       "2                        0                     1       1  ...      Transient   \n",
       "3                        0                     1       1  ...      Transient   \n",
       "4                        0                     2       2  ...      Transient   \n",
       "\n",
       "    adr required_car_parking_spaces total_of_special_requests  \\\n",
       "0   0.0                           0                         0   \n",
       "1   0.0                           0                         0   \n",
       "2  75.0                           0                         0   \n",
       "3  75.0                           0                         0   \n",
       "4  98.0                           0                         1   \n",
       "\n",
       "  reservation_status reservation_status_date            name  \\\n",
       "0          Check-Out              2015-07-01   Ernest Barnes   \n",
       "1          Check-Out              2015-07-01    Andrea Baker   \n",
       "2          Check-Out              2015-07-02  Rebecca Parker   \n",
       "3          Check-Out              2015-07-02    Laura Murray   \n",
       "4          Check-Out              2015-07-03     Linda Hines   \n",
       "\n",
       "                         email  phone-number       credit_card  \n",
       "0  Ernest.Barnes31@outlook.com  669-792-1661  ************4322  \n",
       "1       Andrea_Baker94@aol.com  858-637-6955  ************9157  \n",
       "2   Rebecca_Parker@comcast.net  652-885-2745  ************3734  \n",
       "3            Laura_M@gmail.com  364-656-8427  ************5677  \n",
       "4           LHines@verizon.com  713-226-5883  ************5498  \n",
       "\n",
       "[5 rows x 36 columns]"
      ]
     },
     "execution_count": 257,
     "metadata": {},
     "output_type": "execute_result"
    }
   ],
   "source": [
    "df = pd.read_csv('dataset/hotel_booking.csv')  \n",
    "df.head()"
   ]
  },
  {
   "cell_type": "markdown",
   "metadata": {},
   "source": [
    "Определим размер датасета:"
   ]
  },
  {
   "cell_type": "code",
   "execution_count": 258,
   "metadata": {
    "scrolled": true
   },
   "outputs": [
    {
     "name": "stdout",
     "output_type": "stream",
     "text": [
      "Размер датасета:  (119390, 36)\n"
     ]
    }
   ],
   "source": [
    "print(\"Размер датасета: \", df.shape)"
   ]
  },
  {
   "cell_type": "markdown",
   "metadata": {},
   "source": [
    "Проверим наличие дубликатов:"
   ]
  },
  {
   "cell_type": "code",
   "execution_count": 259,
   "metadata": {},
   "outputs": [
    {
     "data": {
      "text/plain": [
       "(119390, 36)"
      ]
     },
     "execution_count": 259,
     "metadata": {},
     "output_type": "execute_result"
    }
   ],
   "source": [
    "df.drop_duplicates(inplace=True, ignore_index=False)\n",
    "df.shape"
   ]
  },
  {
   "cell_type": "markdown",
   "metadata": {},
   "source": [
    "### 1.2 Описание данных"
   ]
  },
  {
   "cell_type": "markdown",
   "metadata": {},
   "source": [
    "- Определим, какие данные хранятся в каждом столбце (найдем все уникальные значения)"
   ]
  },
  {
   "cell_type": "code",
   "execution_count": 260,
   "metadata": {},
   "outputs": [],
   "source": [
    "pd.set_option('display.max_colwidth', 100) # Максимальная ширина столбца"
   ]
  },
  {
   "cell_type": "code",
   "execution_count": 261,
   "metadata": {
    "scrolled": true
   },
   "outputs": [
    {
     "data": {
      "text/html": [
       "<div>\n",
       "<style scoped>\n",
       "    .dataframe tbody tr th:only-of-type {\n",
       "        vertical-align: middle;\n",
       "    }\n",
       "\n",
       "    .dataframe tbody tr th {\n",
       "        vertical-align: top;\n",
       "    }\n",
       "\n",
       "    .dataframe thead th {\n",
       "        text-align: right;\n",
       "    }\n",
       "</style>\n",
       "<table border=\"1\" class=\"dataframe\">\n",
       "  <thead>\n",
       "    <tr style=\"text-align: right;\">\n",
       "      <th></th>\n",
       "      <th>Name</th>\n",
       "      <th>Values</th>\n",
       "    </tr>\n",
       "  </thead>\n",
       "  <tbody>\n",
       "    <tr>\n",
       "      <th>0</th>\n",
       "      <td>hotel</td>\n",
       "      <td>[Resort Hotel, City Hotel]</td>\n",
       "    </tr>\n",
       "    <tr>\n",
       "      <th>1</th>\n",
       "      <td>is_canceled</td>\n",
       "      <td>[0, 1]</td>\n",
       "    </tr>\n",
       "    <tr>\n",
       "      <th>2</th>\n",
       "      <td>lead_time</td>\n",
       "      <td>[[342, 737, 7], ...]</td>\n",
       "    </tr>\n",
       "    <tr>\n",
       "      <th>3</th>\n",
       "      <td>arrival_date_year</td>\n",
       "      <td>[2015, 2016, 2017]</td>\n",
       "    </tr>\n",
       "    <tr>\n",
       "      <th>4</th>\n",
       "      <td>arrival_date_month</td>\n",
       "      <td>[July, August, September, October, November, December, January, February, March, April, May, June]</td>\n",
       "    </tr>\n",
       "    <tr>\n",
       "      <th>5</th>\n",
       "      <td>arrival_date_week_number</td>\n",
       "      <td>[[27, 28, 29], ...]</td>\n",
       "    </tr>\n",
       "    <tr>\n",
       "      <th>6</th>\n",
       "      <td>arrival_date_day_of_month</td>\n",
       "      <td>[[1, 2, 3], ...]</td>\n",
       "    </tr>\n",
       "    <tr>\n",
       "      <th>7</th>\n",
       "      <td>stays_in_weekend_nights</td>\n",
       "      <td>[[0, 1, 2], ...]</td>\n",
       "    </tr>\n",
       "    <tr>\n",
       "      <th>8</th>\n",
       "      <td>stays_in_week_nights</td>\n",
       "      <td>[[0, 1, 2], ...]</td>\n",
       "    </tr>\n",
       "    <tr>\n",
       "      <th>9</th>\n",
       "      <td>adults</td>\n",
       "      <td>[2, 1, 3, 4, 40, 26, 50, 27, 55, 0, 20, 6, 5, 10]</td>\n",
       "    </tr>\n",
       "    <tr>\n",
       "      <th>10</th>\n",
       "      <td>children</td>\n",
       "      <td>[0.0, 1.0, 2.0, 10.0, 3.0, nan]</td>\n",
       "    </tr>\n",
       "    <tr>\n",
       "      <th>11</th>\n",
       "      <td>babies</td>\n",
       "      <td>[0, 1, 2, 10, 9]</td>\n",
       "    </tr>\n",
       "    <tr>\n",
       "      <th>12</th>\n",
       "      <td>meal</td>\n",
       "      <td>[BB, FB, HB, SC, Undefined]</td>\n",
       "    </tr>\n",
       "    <tr>\n",
       "      <th>13</th>\n",
       "      <td>country</td>\n",
       "      <td>[[PRT, GBR, USA], ...]</td>\n",
       "    </tr>\n",
       "    <tr>\n",
       "      <th>14</th>\n",
       "      <td>market_segment</td>\n",
       "      <td>[Direct, Corporate, Online TA, Offline TA/TO, Complementary, Groups, Undefined, Aviation]</td>\n",
       "    </tr>\n",
       "    <tr>\n",
       "      <th>15</th>\n",
       "      <td>distribution_channel</td>\n",
       "      <td>[Direct, Corporate, TA/TO, Undefined, GDS]</td>\n",
       "    </tr>\n",
       "    <tr>\n",
       "      <th>16</th>\n",
       "      <td>is_repeated_guest</td>\n",
       "      <td>[0, 1]</td>\n",
       "    </tr>\n",
       "    <tr>\n",
       "      <th>17</th>\n",
       "      <td>previous_cancellations</td>\n",
       "      <td>[[0, 1, 2], ...]</td>\n",
       "    </tr>\n",
       "    <tr>\n",
       "      <th>18</th>\n",
       "      <td>previous_bookings_not_canceled</td>\n",
       "      <td>[[0, 1, 2], ...]</td>\n",
       "    </tr>\n",
       "    <tr>\n",
       "      <th>19</th>\n",
       "      <td>reserved_room_type</td>\n",
       "      <td>[C, A, D, E, G, F, H, L, P, B]</td>\n",
       "    </tr>\n",
       "    <tr>\n",
       "      <th>20</th>\n",
       "      <td>assigned_room_type</td>\n",
       "      <td>[C, A, D, E, G, F, I, B, H, P, L, K]</td>\n",
       "    </tr>\n",
       "    <tr>\n",
       "      <th>21</th>\n",
       "      <td>booking_changes</td>\n",
       "      <td>[[3, 4, 0], ...]</td>\n",
       "    </tr>\n",
       "    <tr>\n",
       "      <th>22</th>\n",
       "      <td>deposit_type</td>\n",
       "      <td>[No Deposit, Refundable, Non Refund]</td>\n",
       "    </tr>\n",
       "    <tr>\n",
       "      <th>23</th>\n",
       "      <td>agent</td>\n",
       "      <td>[[nan, 304.0, 240.0], ...]</td>\n",
       "    </tr>\n",
       "    <tr>\n",
       "      <th>24</th>\n",
       "      <td>company</td>\n",
       "      <td>[[nan, 110.0, 113.0], ...]</td>\n",
       "    </tr>\n",
       "    <tr>\n",
       "      <th>25</th>\n",
       "      <td>days_in_waiting_list</td>\n",
       "      <td>[[0, 50, 47], ...]</td>\n",
       "    </tr>\n",
       "    <tr>\n",
       "      <th>26</th>\n",
       "      <td>customer_type</td>\n",
       "      <td>[Transient, Contract, Transient-Party, Group]</td>\n",
       "    </tr>\n",
       "    <tr>\n",
       "      <th>27</th>\n",
       "      <td>adr</td>\n",
       "      <td>[[0.0, 75.0, 98.0], ...]</td>\n",
       "    </tr>\n",
       "    <tr>\n",
       "      <th>28</th>\n",
       "      <td>required_car_parking_spaces</td>\n",
       "      <td>[0, 1, 2, 8, 3]</td>\n",
       "    </tr>\n",
       "    <tr>\n",
       "      <th>29</th>\n",
       "      <td>total_of_special_requests</td>\n",
       "      <td>[0, 1, 3, 2, 4, 5]</td>\n",
       "    </tr>\n",
       "    <tr>\n",
       "      <th>30</th>\n",
       "      <td>reservation_status</td>\n",
       "      <td>[Check-Out, Canceled, No-Show]</td>\n",
       "    </tr>\n",
       "    <tr>\n",
       "      <th>31</th>\n",
       "      <td>reservation_status_date</td>\n",
       "      <td>[[2015-07-01, 2015-07-02, 2015-07-03], ...]</td>\n",
       "    </tr>\n",
       "    <tr>\n",
       "      <th>32</th>\n",
       "      <td>name</td>\n",
       "      <td>[[Ernest Barnes, Andrea Baker, Rebecca Parker], ...]</td>\n",
       "    </tr>\n",
       "    <tr>\n",
       "      <th>33</th>\n",
       "      <td>email</td>\n",
       "      <td>[[Ernest.Barnes31@outlook.com, Andrea_Baker94@aol.com, Rebecca_Parker@comcast.net], ...]</td>\n",
       "    </tr>\n",
       "    <tr>\n",
       "      <th>34</th>\n",
       "      <td>phone-number</td>\n",
       "      <td>[[669-792-1661, 858-637-6955, 652-885-2745], ...]</td>\n",
       "    </tr>\n",
       "    <tr>\n",
       "      <th>35</th>\n",
       "      <td>credit_card</td>\n",
       "      <td>[[************4322, ************9157, ************3734], ...]</td>\n",
       "    </tr>\n",
       "  </tbody>\n",
       "</table>\n",
       "</div>"
      ],
      "text/plain": [
       "                              Name  \\\n",
       "0                            hotel   \n",
       "1                      is_canceled   \n",
       "2                        lead_time   \n",
       "3                arrival_date_year   \n",
       "4               arrival_date_month   \n",
       "5         arrival_date_week_number   \n",
       "6        arrival_date_day_of_month   \n",
       "7          stays_in_weekend_nights   \n",
       "8             stays_in_week_nights   \n",
       "9                           adults   \n",
       "10                        children   \n",
       "11                          babies   \n",
       "12                            meal   \n",
       "13                         country   \n",
       "14                  market_segment   \n",
       "15            distribution_channel   \n",
       "16               is_repeated_guest   \n",
       "17          previous_cancellations   \n",
       "18  previous_bookings_not_canceled   \n",
       "19              reserved_room_type   \n",
       "20              assigned_room_type   \n",
       "21                 booking_changes   \n",
       "22                    deposit_type   \n",
       "23                           agent   \n",
       "24                         company   \n",
       "25            days_in_waiting_list   \n",
       "26                   customer_type   \n",
       "27                             adr   \n",
       "28     required_car_parking_spaces   \n",
       "29       total_of_special_requests   \n",
       "30              reservation_status   \n",
       "31         reservation_status_date   \n",
       "32                            name   \n",
       "33                           email   \n",
       "34                    phone-number   \n",
       "35                     credit_card   \n",
       "\n",
       "                                                                                                Values  \n",
       "0                                                                           [Resort Hotel, City Hotel]  \n",
       "1                                                                                               [0, 1]  \n",
       "2                                                                                 [[342, 737, 7], ...]  \n",
       "3                                                                                   [2015, 2016, 2017]  \n",
       "4   [July, August, September, October, November, December, January, February, March, April, May, June]  \n",
       "5                                                                                  [[27, 28, 29], ...]  \n",
       "6                                                                                     [[1, 2, 3], ...]  \n",
       "7                                                                                     [[0, 1, 2], ...]  \n",
       "8                                                                                     [[0, 1, 2], ...]  \n",
       "9                                                    [2, 1, 3, 4, 40, 26, 50, 27, 55, 0, 20, 6, 5, 10]  \n",
       "10                                                                     [0.0, 1.0, 2.0, 10.0, 3.0, nan]  \n",
       "11                                                                                    [0, 1, 2, 10, 9]  \n",
       "12                                                                         [BB, FB, HB, SC, Undefined]  \n",
       "13                                                                              [[PRT, GBR, USA], ...]  \n",
       "14           [Direct, Corporate, Online TA, Offline TA/TO, Complementary, Groups, Undefined, Aviation]  \n",
       "15                                                          [Direct, Corporate, TA/TO, Undefined, GDS]  \n",
       "16                                                                                              [0, 1]  \n",
       "17                                                                                    [[0, 1, 2], ...]  \n",
       "18                                                                                    [[0, 1, 2], ...]  \n",
       "19                                                                      [C, A, D, E, G, F, H, L, P, B]  \n",
       "20                                                                [C, A, D, E, G, F, I, B, H, P, L, K]  \n",
       "21                                                                                    [[3, 4, 0], ...]  \n",
       "22                                                                [No Deposit, Refundable, Non Refund]  \n",
       "23                                                                          [[nan, 304.0, 240.0], ...]  \n",
       "24                                                                          [[nan, 110.0, 113.0], ...]  \n",
       "25                                                                                  [[0, 50, 47], ...]  \n",
       "26                                                       [Transient, Contract, Transient-Party, Group]  \n",
       "27                                                                            [[0.0, 75.0, 98.0], ...]  \n",
       "28                                                                                     [0, 1, 2, 8, 3]  \n",
       "29                                                                                  [0, 1, 3, 2, 4, 5]  \n",
       "30                                                                      [Check-Out, Canceled, No-Show]  \n",
       "31                                                         [[2015-07-01, 2015-07-02, 2015-07-03], ...]  \n",
       "32                                                [[Ernest Barnes, Andrea Baker, Rebecca Parker], ...]  \n",
       "33            [[Ernest.Barnes31@outlook.com, Andrea_Baker94@aol.com, Rebecca_Parker@comcast.net], ...]  \n",
       "34                                                   [[669-792-1661, 858-637-6955, 652-885-2745], ...]  \n",
       "35                                       [[************4322, ************9157, ************3734], ...]  "
      ]
     },
     "execution_count": 261,
     "metadata": {},
     "output_type": "execute_result"
    }
   ],
   "source": [
    "df_unique = pd.DataFrame(columns=['Name', 'Values'])\n",
    "for col in df:\n",
    "    if df[col].nunique()<15:\n",
    "        df_unique = pd.concat([df_unique, pd.DataFrame([[col, df[col].unique()]], columns=['Name', 'Values'])], ignore_index = True )\n",
    "    else:\n",
    "        df_unique = pd.concat([df_unique, pd.DataFrame([[col, [df[col].unique()[:3], '...']]], columns=['Name', 'Values'])], ignore_index = True )\n",
    "df_unique"
   ]
  },
  {
   "cell_type": "markdown",
   "metadata": {},
   "source": [
    "**Произведем анализ для получения представления о данных**\n",
    "\n",
    "- Добавим столбец с полной датой прибытия:"
   ]
  },
  {
   "cell_type": "code",
   "execution_count": 262,
   "metadata": {
    "scrolled": true
   },
   "outputs": [
    {
     "data": {
      "text/html": [
       "<div>\n",
       "<style scoped>\n",
       "    .dataframe tbody tr th:only-of-type {\n",
       "        vertical-align: middle;\n",
       "    }\n",
       "\n",
       "    .dataframe tbody tr th {\n",
       "        vertical-align: top;\n",
       "    }\n",
       "\n",
       "    .dataframe thead th {\n",
       "        text-align: right;\n",
       "    }\n",
       "</style>\n",
       "<table border=\"1\" class=\"dataframe\">\n",
       "  <thead>\n",
       "    <tr style=\"text-align: right;\">\n",
       "      <th></th>\n",
       "      <th>arrival_date</th>\n",
       "      <th>arrival_date_year</th>\n",
       "      <th>arrival_date_month</th>\n",
       "      <th>arrival_date_day_of_month</th>\n",
       "    </tr>\n",
       "  </thead>\n",
       "  <tbody>\n",
       "    <tr>\n",
       "      <th>79004</th>\n",
       "      <td>2015-10-22</td>\n",
       "      <td>2015</td>\n",
       "      <td>October</td>\n",
       "      <td>22</td>\n",
       "    </tr>\n",
       "    <tr>\n",
       "      <th>45385</th>\n",
       "      <td>2015-10-28</td>\n",
       "      <td>2015</td>\n",
       "      <td>October</td>\n",
       "      <td>28</td>\n",
       "    </tr>\n",
       "    <tr>\n",
       "      <th>16816</th>\n",
       "      <td>2015-09-10</td>\n",
       "      <td>2015</td>\n",
       "      <td>September</td>\n",
       "      <td>10</td>\n",
       "    </tr>\n",
       "    <tr>\n",
       "      <th>3135</th>\n",
       "      <td>2015-11-19</td>\n",
       "      <td>2015</td>\n",
       "      <td>November</td>\n",
       "      <td>19</td>\n",
       "    </tr>\n",
       "    <tr>\n",
       "      <th>87397</th>\n",
       "      <td>2016-04-16</td>\n",
       "      <td>2016</td>\n",
       "      <td>April</td>\n",
       "      <td>16</td>\n",
       "    </tr>\n",
       "  </tbody>\n",
       "</table>\n",
       "</div>"
      ],
      "text/plain": [
       "      arrival_date  arrival_date_year arrival_date_month  \\\n",
       "79004   2015-10-22               2015            October   \n",
       "45385   2015-10-28               2015            October   \n",
       "16816   2015-09-10               2015          September   \n",
       "3135    2015-11-19               2015           November   \n",
       "87397   2016-04-16               2016              April   \n",
       "\n",
       "       arrival_date_day_of_month  \n",
       "79004                         22  \n",
       "45385                         28  \n",
       "16816                         10  \n",
       "3135                          19  \n",
       "87397                         16  "
      ]
     },
     "execution_count": 262,
     "metadata": {},
     "output_type": "execute_result"
    }
   ],
   "source": [
    "# Объединим столбцы с годом, месяцем и днем прибытия\n",
    "df['arrival_date'] = df['arrival_date_year'].astype(str).str.cat( \\\n",
    "    df['arrival_date_month'].str.cat(df['arrival_date_day_of_month'].astype(str), sep =\" \"), sep =\" \") \n",
    "# Преобразуем в формат даты\n",
    "df['arrival_date'] = pd.to_datetime(df['arrival_date'])\n",
    "df[['arrival_date', 'arrival_date_year', 'arrival_date_month', 'arrival_date_day_of_month']].sample(n=5)"
   ]
  },
  {
   "cell_type": "markdown",
   "metadata": {},
   "source": [
    "- Определим диапазон дат, представленных в наборе данных:"
   ]
  },
  {
   "cell_type": "code",
   "execution_count": 263,
   "metadata": {},
   "outputs": [
    {
     "name": "stdout",
     "output_type": "stream",
     "text": [
      "Диапазон дат прибытия:  2015-07-01 00:00:00 - 2017-08-31 00:00:00\n"
     ]
    }
   ],
   "source": [
    "print(\"Диапазон дат прибытия: \", df['arrival_date'].min(), \"-\", df['arrival_date'].max())"
   ]
  },
  {
   "cell_type": "markdown",
   "metadata": {},
   "source": [
    "- Определим статусы бронирования, соответстувующие отмене заказа:"
   ]
  },
  {
   "cell_type": "code",
   "execution_count": 264,
   "metadata": {},
   "outputs": [
    {
     "name": "stdout",
     "output_type": "stream",
     "text": [
      "Подтвержденный заказ:  ['Check-Out']\n",
      "Отмененный заказ:  ['Canceled' 'No-Show']\n"
     ]
    }
   ],
   "source": [
    "print(\"Подтвержденный заказ: \",df[df['is_canceled']==0]['reservation_status'].unique())\n",
    "print(\"Отмененный заказ: \",df[df['is_canceled']==1]['reservation_status'].unique())"
   ]
  },
  {
   "cell_type": "markdown",
   "metadata": {},
   "source": [
    "**Теперь мы имеем следующее представление о наборе данных:**\n",
    "\n",
    "- Содержит 119390 строки; \n",
    "- Записи представлены для Resort Hotel и City Hotel;\n",
    "- Каждое наблюдение представляет бронирование отеля в период с 1 июля 2015 года по 31 августа 2017 года, включая бронирование, которое было отменено.\n",
    "\n",
    "**hotel** - отель (Resort Hotel или City Hotel);    \n",
    "**is_canceled** - бронирование отменено (1/0);  \n",
    "**lead_time** - количество дней, прошедших между датой бронирования и датой прибытия;    \n",
    "**arrival_date_year** - год прибытия;  \n",
    "**arrival_date_month** - месяц прибытия;  \n",
    "**arrival_date_week_number** - номер недели прибытия;  \n",
    "**arrival_date_day_of_month** - день прибытия;  \n",
    "**stays_in_weekend_nights** - количество ночей выходных (суббота или воскресенье), в течение которых гость останавливался или забронировал проживание в отеле;  \n",
    "**stays_in_week_nights** - количество ночей в будни (с понедельника по пятницу), в течение которых гость останавливался или забронировал проживание в отеле;  \n",
    "**adults** - количество взрослых;  \n",
    "**children** - количество детей;  \n",
    "**babies** - количество младенцев;  \n",
    "**meal** - питание (BB – Bed & Breakfas, SC – Self Catering, ...);  \n",
    "**country** - cтрана гостя;  \n",
    "**market_segment** - обозначение сегмента рынка (TA - Travel Agents, TO - Tour Operators);  \n",
    "**distribution_channel** - канал распространения бронирования;  \n",
    "**is_repeated_guest** - постоянный гость (1/0);  \n",
    "**previous_cancellations** - количество предыдущих бронирований, которые были отменены гостем до текущего бронирования;  \n",
    "**previous_bookings_not_canceled** - количество предыдущих бронирований, не отмененных гостем до текущего бронирования;  \n",
    "**reserved_room_type** - тип забронированного номера;  \n",
    "**assigned_room_type** - тип номера, выданного клиенту (иногда назначенный тип номера отличается от забронированного по причинам работы отеля или по запросу клиента);    \n",
    "**booking_changes** - количество изменений, внесенных в бронирование с момента ввода бронирования до момента регистрации заезда или отмены бронирования;  \n",
    "**deposit_type** - тип депозита (No Deposit – депозит не внесен, Refundable – внесен депозит в размере стоимости проживания,  Not Refundable – был внесен депозит на сумму, меньшую общей стоимости проживания);  \n",
    "**agent** - ID туристического агентства, осуществившего бронирование;  \n",
    "**company** - идентификатор компании, осуществившей бронирование или ответственного за оплату бронирования;  \n",
    "**days_in_waiting_list** - количество дней, в течение которых бронирование находилось в списке ожидания, прежде чем оно было подтверждено клиенту;  \n",
    "**customer_type** - тип клиента (Group – бронирование связано с группой, Transient – бронирование не является частью группы или контракта и не связано с другим временным бронированием; Transient-Party - бронирование является временным, но связано, по крайней мере, с другим временным бронированием);  \n",
    "**adr** - Average Daily Rate (рассчитывается путем деления суммы всех транзакций по размещению на количество ночей проживания);  **required_car_parking_spaces** - количество парковочных мест, требуемых клиентом;  \n",
    "**total_of_special_requests** - количество специальных запросов, сделанных клиентом;  \n",
    "**reservation_status** - статус бронирования (Check-Out - клиент зарегистрировался, но уже отбыл, Canceled - бронирование отменено, No-Show - клиент не зарегистрировался и не сообщил отелю причину);   \n",
    "**reservation_status_date** - дата, на которую был установлен последний статус."
   ]
  },
  {
   "cell_type": "markdown",
   "metadata": {},
   "source": [
    "## 2. Выявление аномалий и выбросов"
   ]
  },
  {
   "cell_type": "markdown",
   "metadata": {},
   "source": [
    "### 2.1 Обработка пропущенных значений"
   ]
  },
  {
   "cell_type": "markdown",
   "metadata": {},
   "source": [
    "- Получим информацию о типе данных и пропущенных значениях для каждого столбца:"
   ]
  },
  {
   "cell_type": "code",
   "execution_count": 265,
   "metadata": {
    "scrolled": true
   },
   "outputs": [
    {
     "name": "stdout",
     "output_type": "stream",
     "text": [
      "<class 'pandas.core.frame.DataFrame'>\n",
      "RangeIndex: 119390 entries, 0 to 119389\n",
      "Data columns (total 37 columns):\n",
      " #   Column                          Non-Null Count   Dtype         \n",
      "---  ------                          --------------   -----         \n",
      " 0   hotel                           119390 non-null  object        \n",
      " 1   is_canceled                     119390 non-null  int64         \n",
      " 2   lead_time                       119390 non-null  int64         \n",
      " 3   arrival_date_year               119390 non-null  int64         \n",
      " 4   arrival_date_month              119390 non-null  object        \n",
      " 5   arrival_date_week_number        119390 non-null  int64         \n",
      " 6   arrival_date_day_of_month       119390 non-null  int64         \n",
      " 7   stays_in_weekend_nights         119390 non-null  int64         \n",
      " 8   stays_in_week_nights            119390 non-null  int64         \n",
      " 9   adults                          119390 non-null  int64         \n",
      " 10  children                        119386 non-null  float64       \n",
      " 11  babies                          119390 non-null  int64         \n",
      " 12  meal                            119390 non-null  object        \n",
      " 13  country                         118902 non-null  object        \n",
      " 14  market_segment                  119390 non-null  object        \n",
      " 15  distribution_channel            119390 non-null  object        \n",
      " 16  is_repeated_guest               119390 non-null  int64         \n",
      " 17  previous_cancellations          119390 non-null  int64         \n",
      " 18  previous_bookings_not_canceled  119390 non-null  int64         \n",
      " 19  reserved_room_type              119390 non-null  object        \n",
      " 20  assigned_room_type              119390 non-null  object        \n",
      " 21  booking_changes                 119390 non-null  int64         \n",
      " 22  deposit_type                    119390 non-null  object        \n",
      " 23  agent                           103050 non-null  float64       \n",
      " 24  company                         6797 non-null    float64       \n",
      " 25  days_in_waiting_list            119390 non-null  int64         \n",
      " 26  customer_type                   119390 non-null  object        \n",
      " 27  adr                             119390 non-null  float64       \n",
      " 28  required_car_parking_spaces     119390 non-null  int64         \n",
      " 29  total_of_special_requests       119390 non-null  int64         \n",
      " 30  reservation_status              119390 non-null  object        \n",
      " 31  reservation_status_date         119390 non-null  object        \n",
      " 32  name                            119390 non-null  object        \n",
      " 33  email                           119390 non-null  object        \n",
      " 34  phone-number                    119390 non-null  object        \n",
      " 35  credit_card                     119390 non-null  object        \n",
      " 36  arrival_date                    119390 non-null  datetime64[ns]\n",
      "dtypes: datetime64[ns](1), float64(4), int64(16), object(16)\n",
      "memory usage: 33.7+ MB\n"
     ]
    }
   ],
   "source": [
    "df.info()"
   ]
  },
  {
   "cell_type": "markdown",
   "metadata": {},
   "source": [
    "Пропущенные значения есть в столбцах \"country\", \"agent\", \"children\", \"company\". Столбцы \"agent\", \"company\" содержат информацию об агенствах и компаниях, их изменять не будем."
   ]
  },
  {
   "cell_type": "markdown",
   "metadata": {},
   "source": [
    "- Уберем строки, в которых нет информации о стране"
   ]
  },
  {
   "cell_type": "code",
   "execution_count": 266,
   "metadata": {},
   "outputs": [],
   "source": [
    "df.dropna(subset = ['country'], inplace = True)"
   ]
  },
  {
   "cell_type": "markdown",
   "metadata": {},
   "source": [
    "- Заполним пропущенные значения в стобце \"children\" нулями"
   ]
  },
  {
   "cell_type": "code",
   "execution_count": 267,
   "metadata": {
    "scrolled": true
   },
   "outputs": [
    {
     "name": "stdout",
     "output_type": "stream",
     "text": [
      "<class 'pandas.core.frame.DataFrame'>\n",
      "Index: 118902 entries, 0 to 119389\n",
      "Data columns (total 37 columns):\n",
      " #   Column                          Non-Null Count   Dtype         \n",
      "---  ------                          --------------   -----         \n",
      " 0   hotel                           118902 non-null  object        \n",
      " 1   is_canceled                     118902 non-null  int64         \n",
      " 2   lead_time                       118902 non-null  int64         \n",
      " 3   arrival_date_year               118902 non-null  int64         \n",
      " 4   arrival_date_month              118902 non-null  object        \n",
      " 5   arrival_date_week_number        118902 non-null  int64         \n",
      " 6   arrival_date_day_of_month       118902 non-null  int64         \n",
      " 7   stays_in_weekend_nights         118902 non-null  int64         \n",
      " 8   stays_in_week_nights            118902 non-null  int64         \n",
      " 9   adults                          118902 non-null  int64         \n",
      " 10  children                        118902 non-null  float64       \n",
      " 11  babies                          118902 non-null  int64         \n",
      " 12  meal                            118902 non-null  object        \n",
      " 13  country                         118902 non-null  object        \n",
      " 14  market_segment                  118902 non-null  object        \n",
      " 15  distribution_channel            118902 non-null  object        \n",
      " 16  is_repeated_guest               118902 non-null  int64         \n",
      " 17  previous_cancellations          118902 non-null  int64         \n",
      " 18  previous_bookings_not_canceled  118902 non-null  int64         \n",
      " 19  reserved_room_type              118902 non-null  object        \n",
      " 20  assigned_room_type              118902 non-null  object        \n",
      " 21  booking_changes                 118902 non-null  int64         \n",
      " 22  deposit_type                    118902 non-null  object        \n",
      " 23  agent                           102896 non-null  float64       \n",
      " 24  company                         6623 non-null    float64       \n",
      " 25  days_in_waiting_list            118902 non-null  int64         \n",
      " 26  customer_type                   118902 non-null  object        \n",
      " 27  adr                             118902 non-null  float64       \n",
      " 28  required_car_parking_spaces     118902 non-null  int64         \n",
      " 29  total_of_special_requests       118902 non-null  int64         \n",
      " 30  reservation_status              118902 non-null  object        \n",
      " 31  reservation_status_date         118902 non-null  object        \n",
      " 32  name                            118902 non-null  object        \n",
      " 33  email                           118902 non-null  object        \n",
      " 34  phone-number                    118902 non-null  object        \n",
      " 35  credit_card                     118902 non-null  object        \n",
      " 36  arrival_date                    118902 non-null  datetime64[ns]\n",
      "dtypes: datetime64[ns](1), float64(4), int64(16), object(16)\n",
      "memory usage: 34.5+ MB\n"
     ]
    }
   ],
   "source": [
    "df['children'] = df['children'].fillna(0)\n",
    "df.info()"
   ]
  },
  {
   "cell_type": "markdown",
   "metadata": {},
   "source": [
    "### 2.2 Обработка выбросов "
   ]
  },
  {
   "cell_type": "markdown",
   "metadata": {},
   "source": [
    "- Выведем описательную статистику:"
   ]
  },
  {
   "cell_type": "code",
   "execution_count": 268,
   "metadata": {},
   "outputs": [
    {
     "data": {
      "text/html": [
       "<div>\n",
       "<style scoped>\n",
       "    .dataframe tbody tr th:only-of-type {\n",
       "        vertical-align: middle;\n",
       "    }\n",
       "\n",
       "    .dataframe tbody tr th {\n",
       "        vertical-align: top;\n",
       "    }\n",
       "\n",
       "    .dataframe thead th {\n",
       "        text-align: right;\n",
       "    }\n",
       "</style>\n",
       "<table border=\"1\" class=\"dataframe\">\n",
       "  <thead>\n",
       "    <tr style=\"text-align: right;\">\n",
       "      <th></th>\n",
       "      <th>count</th>\n",
       "      <th>mean</th>\n",
       "      <th>std</th>\n",
       "      <th>min</th>\n",
       "      <th>25%</th>\n",
       "      <th>50%</th>\n",
       "      <th>75%</th>\n",
       "      <th>max</th>\n",
       "    </tr>\n",
       "  </thead>\n",
       "  <tbody>\n",
       "    <tr>\n",
       "      <th>lead_time</th>\n",
       "      <td>118902.0</td>\n",
       "      <td>104.308027</td>\n",
       "      <td>106.903127</td>\n",
       "      <td>0.00</td>\n",
       "      <td>18.0</td>\n",
       "      <td>69.0</td>\n",
       "      <td>161.0</td>\n",
       "      <td>737.0</td>\n",
       "    </tr>\n",
       "    <tr>\n",
       "      <th>stays_in_weekend_nights</th>\n",
       "      <td>118902.0</td>\n",
       "      <td>0.928891</td>\n",
       "      <td>0.996211</td>\n",
       "      <td>0.00</td>\n",
       "      <td>0.0</td>\n",
       "      <td>1.0</td>\n",
       "      <td>2.0</td>\n",
       "      <td>16.0</td>\n",
       "    </tr>\n",
       "    <tr>\n",
       "      <th>stays_in_week_nights</th>\n",
       "      <td>118902.0</td>\n",
       "      <td>2.502136</td>\n",
       "      <td>1.900165</td>\n",
       "      <td>0.00</td>\n",
       "      <td>1.0</td>\n",
       "      <td>2.0</td>\n",
       "      <td>3.0</td>\n",
       "      <td>41.0</td>\n",
       "    </tr>\n",
       "    <tr>\n",
       "      <th>previous_cancellations</th>\n",
       "      <td>118902.0</td>\n",
       "      <td>0.087139</td>\n",
       "      <td>0.845855</td>\n",
       "      <td>0.00</td>\n",
       "      <td>0.0</td>\n",
       "      <td>0.0</td>\n",
       "      <td>0.0</td>\n",
       "      <td>26.0</td>\n",
       "    </tr>\n",
       "    <tr>\n",
       "      <th>previous_bookings_not_canceled</th>\n",
       "      <td>118902.0</td>\n",
       "      <td>0.131629</td>\n",
       "      <td>1.484647</td>\n",
       "      <td>0.00</td>\n",
       "      <td>0.0</td>\n",
       "      <td>0.0</td>\n",
       "      <td>0.0</td>\n",
       "      <td>72.0</td>\n",
       "    </tr>\n",
       "    <tr>\n",
       "      <th>booking_changes</th>\n",
       "      <td>118902.0</td>\n",
       "      <td>0.221174</td>\n",
       "      <td>0.652775</td>\n",
       "      <td>0.00</td>\n",
       "      <td>0.0</td>\n",
       "      <td>0.0</td>\n",
       "      <td>0.0</td>\n",
       "      <td>21.0</td>\n",
       "    </tr>\n",
       "    <tr>\n",
       "      <th>days_in_waiting_list</th>\n",
       "      <td>118902.0</td>\n",
       "      <td>2.330676</td>\n",
       "      <td>17.630161</td>\n",
       "      <td>0.00</td>\n",
       "      <td>0.0</td>\n",
       "      <td>0.0</td>\n",
       "      <td>0.0</td>\n",
       "      <td>391.0</td>\n",
       "    </tr>\n",
       "    <tr>\n",
       "      <th>adr</th>\n",
       "      <td>118902.0</td>\n",
       "      <td>102.000808</td>\n",
       "      <td>50.487004</td>\n",
       "      <td>-6.38</td>\n",
       "      <td>70.0</td>\n",
       "      <td>95.0</td>\n",
       "      <td>126.0</td>\n",
       "      <td>5400.0</td>\n",
       "    </tr>\n",
       "  </tbody>\n",
       "</table>\n",
       "</div>"
      ],
      "text/plain": [
       "                                   count        mean         std   min   25%  \\\n",
       "lead_time                       118902.0  104.308027  106.903127  0.00  18.0   \n",
       "stays_in_weekend_nights         118902.0    0.928891    0.996211  0.00   0.0   \n",
       "stays_in_week_nights            118902.0    2.502136    1.900165  0.00   1.0   \n",
       "previous_cancellations          118902.0    0.087139    0.845855  0.00   0.0   \n",
       "previous_bookings_not_canceled  118902.0    0.131629    1.484647  0.00   0.0   \n",
       "booking_changes                 118902.0    0.221174    0.652775  0.00   0.0   \n",
       "days_in_waiting_list            118902.0    2.330676   17.630161  0.00   0.0   \n",
       "adr                             118902.0  102.000808   50.487004 -6.38  70.0   \n",
       "\n",
       "                                 50%    75%     max  \n",
       "lead_time                       69.0  161.0   737.0  \n",
       "stays_in_weekend_nights          1.0    2.0    16.0  \n",
       "stays_in_week_nights             2.0    3.0    41.0  \n",
       "previous_cancellations           0.0    0.0    26.0  \n",
       "previous_bookings_not_canceled   0.0    0.0    72.0  \n",
       "booking_changes                  0.0    0.0    21.0  \n",
       "days_in_waiting_list             0.0    0.0   391.0  \n",
       "adr                             95.0  126.0  5400.0  "
      ]
     },
     "execution_count": 268,
     "metadata": {},
     "output_type": "execute_result"
    }
   ],
   "source": [
    "df[['lead_time', 'stays_in_weekend_nights', 'stays_in_week_nights', \n",
    "    'previous_cancellations', 'previous_bookings_not_canceled', 'booking_changes', \n",
    "    'days_in_waiting_list', 'adr']].describe().T"
   ]
  },
  {
   "cell_type": "markdown",
   "metadata": {},
   "source": [
    "- Изучим столбец 'adr';"
   ]
  },
  {
   "cell_type": "code",
   "execution_count": 269,
   "metadata": {},
   "outputs": [
    {
     "data": {
      "image/png": "[encoded data removed]",
      "text/plain": [
       "<Figure size 432x288 with 1 Axes>"
      ]
     },
     "metadata": {
      "needs_background": "light"
     },
     "output_type": "display_data"
    }
   ],
   "source": [
    "boxplot = df.boxplot(column=['adr'], grid = False)"
   ]
  },
  {
   "cell_type": "markdown",
   "metadata": {},
   "source": [
    "Уберем значительные выбросы и отрицательные значения ADR:"
   ]
  },
  {
   "cell_type": "code",
   "execution_count": 323,
   "metadata": {},
   "outputs": [
    {
     "data": {
      "text/plain": [
       "(118505, 39)"
      ]
     },
     "execution_count": 323,
     "metadata": {},
     "output_type": "execute_result"
    },
    {
     "data": {
      "image/png": "[encoded data removed]",
      "text/plain": [
       "<Figure size 432x288 with 1 Axes>"
      ]
     },
     "metadata": {
      "needs_background": "light"
     },
     "output_type": "display_data"
    }
   ],
   "source": [
    "df = df[df['adr']<500] # Удаляем выброс\n",
    "df = df[df['adr']>= 0]  # Удаляем отрицательные значения\n",
    "boxplot = df.boxplot(column=['adr'], grid = False)\n",
    "df.shape"
   ]
  },
  {
   "cell_type": "markdown",
   "metadata": {},
   "source": [
    "### 2.3 Поиск несоответствий в данных"
   ]
  },
  {
   "cell_type": "markdown",
   "metadata": {},
   "source": [
    "- Удалим все бронирования, где число взрослых гостей равно 0"
   ]
  },
  {
   "cell_type": "code",
   "execution_count": 324,
   "metadata": {},
   "outputs": [
    {
     "data": {
      "text/plain": [
       "(118505, 39)"
      ]
     },
     "execution_count": 324,
     "metadata": {},
     "output_type": "execute_result"
    }
   ],
   "source": [
    "df = df[df['adults'] > 0]\n",
    "df.shape"
   ]
  },
  {
   "cell_type": "markdown",
   "metadata": {},
   "source": [
    "- Удалим бронирования, где статус бронирования не соответствует отметке об отмене бронирования"
   ]
  },
  {
   "cell_type": "code",
   "execution_count": 325,
   "metadata": {},
   "outputs": [
    {
     "data": {
      "text/plain": [
       "(118505, 39)"
      ]
     },
     "execution_count": 325,
     "metadata": {},
     "output_type": "execute_result"
    }
   ],
   "source": [
    "df = df[~((df['is_canceled'] == 1) & (df['reservation_status'] == 'Check-Out'))]\n",
    "df = df[~((df['is_canceled'] == 0) & (df['reservation_status'] != 'Check-Out'))]\n",
    "df.shape"
   ]
  },
  {
   "cell_type": "markdown",
   "metadata": {},
   "source": [
    "## 3. Анализ распределения бронирований между отелями"
   ]
  },
  {
   "cell_type": "markdown",
   "metadata": {},
   "source": [
    "- Определим, в каком отношении распределяются заказы по отелям (только для посетителей, которые прибыли в отель):"
   ]
  },
  {
   "cell_type": "code",
   "execution_count": 578,
   "metadata": {
    "scrolled": true
   },
   "outputs": [
    {
     "data": {
      "image/png": "[encoded data removed]",
      "text/plain": [
       "<Figure size 432x288 with 1 Axes>"
      ]
     },
     "metadata": {
      "needs_background": "light"
     },
     "output_type": "display_data"
    }
   ],
   "source": [
    "d = df[df['reservation_status']=='Check-Out'].groupby('hotel').hotel.count().plot(kind='bar', edgecolor = 'black')"
   ]
  },
  {
   "cell_type": "markdown",
   "metadata": {},
   "source": [
    "- Определим зависимость количества гостей от месяца для каждого типа отелей"
   ]
  },
  {
   "cell_type": "code",
   "execution_count": 473,
   "metadata": {},
   "outputs": [],
   "source": [
    "df['guests'] = df.apply(lambda x: (x[\"adults\"]+x[\"children\"]+x[\"babies\"]), axis=1) # Создадим столбец с общим числом гостей\n",
    "# Создадим столбец с месяцем прибытия в формате даты\n",
    "df['arrival_date_month_num'] = pd.to_datetime(df['arrival_date_month'], format = \"%B\") "
   ]
  },
  {
   "cell_type": "code",
   "execution_count": 475,
   "metadata": {},
   "outputs": [
    {
     "data": {
      "text/plain": [
       "(74448, 39)"
      ]
     },
     "execution_count": 475,
     "metadata": {},
     "output_type": "execute_result"
    }
   ],
   "source": [
    "df_visits = df[df['is_canceled']==0]  # Выберем только неотменённые бронирования\n",
    "df_visits.shape"
   ]
  },
  {
   "cell_type": "code",
   "execution_count": 476,
   "metadata": {},
   "outputs": [
    {
     "data": {
      "image/png": "[encoded data removed]",
      "text/plain": [
       "<Figure size 864x360 with 1 Axes>"
      ]
     },
     "metadata": {
      "needs_background": "light"
     },
     "output_type": "display_data"
    }
   ],
   "source": [
    "guests_by_month = pd.pivot_table(data=df_visits, index = \"arrival_date_month_num\",\n",
    "               columns=\"hotel\", values=\"guests\", aggfunc = \"sum\").plot(figsize=(12,5), \n",
    "               kind = \"bar\", xlabel=\"arrival_month\", ylabel=\"guests\", edgecolor = 'black')\n",
    "ax = plt.gca()\n",
    "xticklabels = ax.set_xticklabels([\"Jan\", \"Feb\", \"Mar\", \"Apr\", \"May\", \"Jun\", \"Jul\", \"Aug\", \"Sep\", \"Oct\", \"Nov\", \"Dec\"])"
   ]
  },
  {
   "cell_type": "markdown",
   "metadata": {},
   "source": [
    "## 4. Анализ цен и количества бронирований"
   ]
  },
  {
   "cell_type": "markdown",
   "metadata": {},
   "source": [
    "- Определим средний ADR за каждый год для каждого отеля:"
   ]
  },
  {
   "cell_type": "code",
   "execution_count": 383,
   "metadata": {
    "scrolled": true
   },
   "outputs": [
    {
     "data": {
      "image/png": "[encoded data removed]",
      "text/plain": [
       "<Figure size 864x360 with 1 Axes>"
      ]
     },
     "metadata": {
      "needs_background": "light"
     },
     "output_type": "display_data"
    }
   ],
   "source": [
    "adr_mean = pd.pivot_table(data=df_visits, index = \"arrival_date_year\",\n",
    "               columns=\"hotel\",\n",
    "               values=\"adr\", \n",
    "                aggfunc = \"mean\").plot.barh(figsize=(12,5), xlabel=\"mean_ADR\", edgecolor = 'black')"
   ]
  },
  {
   "cell_type": "markdown",
   "metadata": {},
   "source": [
    "- Определим зависимость среднего ADR от даты"
   ]
  },
  {
   "cell_type": "code",
   "execution_count": 382,
   "metadata": {},
   "outputs": [
    {
     "data": {
      "image/png": "[encoded data removed]",
      "text/plain": [
       "<Figure size 1440x360 with 1 Axes>"
      ]
     },
     "metadata": {
      "needs_background": "light"
     },
     "output_type": "display_data"
    }
   ],
   "source": [
    "adr_mean = pd.pivot_table(data=df_visits, index = \"arrival_date\",\n",
    "               columns=\"hotel\",\n",
    "               values=\"adr\", \n",
    "                aggfunc = \"mean\").plot(figsize=(20,5), xlabel=\"date\", ylabel=\"mean_ADR\")"
   ]
  },
  {
   "cell_type": "markdown",
   "metadata": {},
   "source": [
    "Можно заметить, что для Resort Hotel средняя цена имеет выраженную сезонность (цена повышается в летние месяцы и в конце декабря). Для City Hotel цена чуть ниже в зимние месяцы."
   ]
  },
  {
   "cell_type": "markdown",
   "metadata": {},
   "source": [
    "- Построим распределение ADR для каждого отеля:"
   ]
  },
  {
   "cell_type": "code",
   "execution_count": 461,
   "metadata": {},
   "outputs": [],
   "source": [
    "def plot_distribution(arr, title):\n",
    "    print(\"Mean ADR: \", arr.mean())\n",
    "    print(\"Median ADR: \", arr.median())\n",
    "    arr.plot(kind='hist', bins=80, figsize=(20, 5),edgecolor = 'black')\n",
    "    ax = plt.gca()\n",
    "    ax.axvline(x=arr.mean(),color='red', linestyle='-', label='mean' )\n",
    "    ax.axvline(x=arr.median(),color='red', linestyle='--', label='median' )\n",
    "    ax.set_xticks(range(0, int(arr.max()),20))\n",
    "    plt.title(title, fontsize = 14)\n",
    "    plt.legend(fontsize = 12)\n",
    "    plt.show()"
   ]
  },
  {
   "cell_type": "code",
   "execution_count": 527,
   "metadata": {
    "scrolled": true
   },
   "outputs": [
    {
     "name": "stdout",
     "output_type": "stream",
     "text": [
      "Mean ADR:  91.2602371430576\n",
      "Median ADR:  73.0\n"
     ]
    },
    {
     "data": {
      "image/png": "[encoded data removed]",
      "text/plain": [
       "<Figure size 1440x360 with 1 Axes>"
      ]
     },
     "metadata": {
      "needs_background": "light"
     },
     "output_type": "display_data"
    },
    {
     "name": "stdout",
     "output_type": "stream",
     "text": [
      "Mean ADR:  106.11064886160811\n",
      "Median ADR:  100.0\n"
     ]
    },
    {
     "data": {
      "image/png": "[encoded data removed]",
      "text/plain": [
       "<Figure size 1440x360 with 1 Axes>"
      ]
     },
     "metadata": {
      "needs_background": "light"
     },
     "output_type": "display_data"
    }
   ],
   "source": [
    "df_visits_RH = df_visits[df_visits.hotel == \"Resort Hotel\"]\n",
    "df_visits_CH = df_visits[df_visits.hotel == \"City Hotel\"]\n",
    "\n",
    "plot_distribution(df_visits_RH.adr, \"Daily rate Resort Hotel\")\n",
    "plot_distribution(df_visits_CH.adr, \"Daily rate City Hotel\")"
   ]
  },
  {
   "cell_type": "markdown",
   "metadata": {},
   "source": [
    "Несмотря на сезонные колебания цен в Resort Hotel, средняя цена выше для City Hotel."
   ]
  },
  {
   "cell_type": "markdown",
   "metadata": {},
   "source": [
    "- Оценим вклад каждого сегмента рынка в общую прибыль"
   ]
  },
  {
   "cell_type": "code",
   "execution_count": 577,
   "metadata": {},
   "outputs": [
    {
     "data": {
      "image/png": "[encoded data removed]",
      "text/plain": [
       "<Figure size 576x576 with 1 Axes>"
      ]
     },
     "metadata": {},
     "output_type": "display_data"
    }
   ],
   "source": [
    "df_market_segment = df_visits.groupby(\"market_segment\").adr.sum().reset_index()\n",
    "plt.figure(figsize=(8,8))\n",
    "pieplot = plt.pie(labels = df_market_segment.market_segment, x=df_market_segment.adr, autopct='%1.0f%%', \n",
    "                  colors=sns.color_palette('viridis'), startangle=-30, explode=[0.5, 0.3, 0.1, 0.05, 0.05, 0.05, 0.02])\n",
    "plot_title = plt.title(\"ADR by market segments\")\n",
    "\n",
    "# plt.legend()\n",
    "# ax =plt.gca()\n",
    "# xticklabels = ax.set_xticklabels(df_market_segment.market_segment)"
   ]
  },
  {
   "cell_type": "markdown",
   "metadata": {},
   "source": [
    "## 5. Анализ отмен бронирования"
   ]
  },
  {
   "cell_type": "markdown",
   "metadata": {},
   "source": [
    "- Определим долю отмененных и подтвержденных бронирований для каждого отеля"
   ]
  },
  {
   "cell_type": "code",
   "execution_count": 658,
   "metadata": {},
   "outputs": [
    {
     "data": {
      "text/html": [
       "<div>\n",
       "<style scoped>\n",
       "    .dataframe tbody tr th:only-of-type {\n",
       "        vertical-align: middle;\n",
       "    }\n",
       "\n",
       "    .dataframe tbody tr th {\n",
       "        vertical-align: top;\n",
       "    }\n",
       "\n",
       "    .dataframe thead th {\n",
       "        text-align: right;\n",
       "    }\n",
       "</style>\n",
       "<table border=\"1\" class=\"dataframe\">\n",
       "  <thead>\n",
       "    <tr style=\"text-align: right;\">\n",
       "      <th></th>\n",
       "      <th>hotel</th>\n",
       "      <th>is_canceled</th>\n",
       "      <th>perc</th>\n",
       "    </tr>\n",
       "  </thead>\n",
       "  <tbody>\n",
       "    <tr>\n",
       "      <th>0</th>\n",
       "      <td>City Hotel</td>\n",
       "      <td>0</td>\n",
       "      <td>58.211905</td>\n",
       "    </tr>\n",
       "    <tr>\n",
       "      <th>1</th>\n",
       "      <td>City Hotel</td>\n",
       "      <td>1</td>\n",
       "      <td>41.788095</td>\n",
       "    </tr>\n",
       "    <tr>\n",
       "      <th>2</th>\n",
       "      <td>Resort Hotel</td>\n",
       "      <td>0</td>\n",
       "      <td>72.015764</td>\n",
       "    </tr>\n",
       "    <tr>\n",
       "      <th>3</th>\n",
       "      <td>Resort Hotel</td>\n",
       "      <td>1</td>\n",
       "      <td>27.984236</td>\n",
       "    </tr>\n",
       "  </tbody>\n",
       "</table>\n",
       "</div>"
      ],
      "text/plain": [
       "          hotel  is_canceled       perc\n",
       "0    City Hotel            0  58.211905\n",
       "1    City Hotel            1  41.788095\n",
       "2  Resort Hotel            0  72.015764\n",
       "3  Resort Hotel            1  27.984236"
      ]
     },
     "execution_count": 658,
     "metadata": {},
     "output_type": "execute_result"
    }
   ],
   "source": [
    "canceled_reserv = df.groupby([\"hotel\", \"is_canceled\"]).adr.count().reset_index()\n",
    "canceled_reserv.rename(columns = {'adr':'reserv'}, inplace = True)\n",
    "canceled_reserv_sum = canceled_reserv.groupby(\"hotel\").reserv.sum().reset_index()\n",
    "canceled_reserv_sum.rename(columns = {'reserv':'reserv_sum'}, inplace = True)\n",
    "canceled_reserv = canceled_reserv.merge(canceled_reserv_sum, on=\"hotel\")\n",
    "canceled_reserv[\"perc\"] = canceled_reserv.apply(lambda x: (x[\"reserv\"]/x[\"reserv_sum\"] *100), axis=1)\n",
    "canceled_reserv.set_index('hotel')\n",
    "canceled_reserv[[\"hotel\", \"is_canceled\", \"perc\"]]"
   ]
  },
  {
   "cell_type": "markdown",
   "metadata": {},
   "source": [
    "- Связь количества дней в списке ожидания и отменой бронирования"
   ]
  },
  {
   "cell_type": "code",
   "execution_count": 664,
   "metadata": {},
   "outputs": [
    {
     "data": {
      "text/html": [
       "<div>\n",
       "<style scoped>\n",
       "    .dataframe tbody tr th:only-of-type {\n",
       "        vertical-align: middle;\n",
       "    }\n",
       "\n",
       "    .dataframe tbody tr th {\n",
       "        vertical-align: top;\n",
       "    }\n",
       "\n",
       "    .dataframe thead th {\n",
       "        text-align: right;\n",
       "    }\n",
       "</style>\n",
       "<table border=\"1\" class=\"dataframe\">\n",
       "  <thead>\n",
       "    <tr style=\"text-align: right;\">\n",
       "      <th></th>\n",
       "      <th>hotel</th>\n",
       "      <th>is_canceled</th>\n",
       "      <th>lead_time</th>\n",
       "      <th>arrival_date_year</th>\n",
       "      <th>arrival_date_month</th>\n",
       "      <th>arrival_date_week_number</th>\n",
       "      <th>arrival_date_day_of_month</th>\n",
       "      <th>stays_in_weekend_nights</th>\n",
       "      <th>stays_in_week_nights</th>\n",
       "      <th>adults</th>\n",
       "      <th>...</th>\n",
       "      <th>total_of_special_requests</th>\n",
       "      <th>reservation_status</th>\n",
       "      <th>reservation_status_date</th>\n",
       "      <th>name</th>\n",
       "      <th>email</th>\n",
       "      <th>phone-number</th>\n",
       "      <th>credit_card</th>\n",
       "      <th>arrival_date</th>\n",
       "      <th>guests</th>\n",
       "      <th>arrival_date_month_num</th>\n",
       "    </tr>\n",
       "    <tr>\n",
       "      <th>days_in_waiting_list</th>\n",
       "      <th></th>\n",
       "      <th></th>\n",
       "      <th></th>\n",
       "      <th></th>\n",
       "      <th></th>\n",
       "      <th></th>\n",
       "      <th></th>\n",
       "      <th></th>\n",
       "      <th></th>\n",
       "      <th></th>\n",
       "      <th></th>\n",
       "      <th></th>\n",
       "      <th></th>\n",
       "      <th></th>\n",
       "      <th></th>\n",
       "      <th></th>\n",
       "      <th></th>\n",
       "      <th></th>\n",
       "      <th></th>\n",
       "      <th></th>\n",
       "      <th></th>\n",
       "    </tr>\n",
       "  </thead>\n",
       "  <tbody>\n",
       "    <tr>\n",
       "      <th>0</th>\n",
       "      <td>41698</td>\n",
       "      <td>41698</td>\n",
       "      <td>41698</td>\n",
       "      <td>41698</td>\n",
       "      <td>41698</td>\n",
       "      <td>41698</td>\n",
       "      <td>41698</td>\n",
       "      <td>41698</td>\n",
       "      <td>41698</td>\n",
       "      <td>41698</td>\n",
       "      <td>...</td>\n",
       "      <td>41698</td>\n",
       "      <td>41698</td>\n",
       "      <td>41698</td>\n",
       "      <td>41698</td>\n",
       "      <td>41698</td>\n",
       "      <td>41698</td>\n",
       "      <td>41698</td>\n",
       "      <td>41698</td>\n",
       "      <td>41698</td>\n",
       "      <td>41698</td>\n",
       "    </tr>\n",
       "    <tr>\n",
       "      <th>1</th>\n",
       "      <td>3</td>\n",
       "      <td>3</td>\n",
       "      <td>3</td>\n",
       "      <td>3</td>\n",
       "      <td>3</td>\n",
       "      <td>3</td>\n",
       "      <td>3</td>\n",
       "      <td>3</td>\n",
       "      <td>3</td>\n",
       "      <td>3</td>\n",
       "      <td>...</td>\n",
       "      <td>3</td>\n",
       "      <td>3</td>\n",
       "      <td>3</td>\n",
       "      <td>3</td>\n",
       "      <td>3</td>\n",
       "      <td>3</td>\n",
       "      <td>3</td>\n",
       "      <td>3</td>\n",
       "      <td>3</td>\n",
       "      <td>3</td>\n",
       "    </tr>\n",
       "    <tr>\n",
       "      <th>2</th>\n",
       "      <td>1</td>\n",
       "      <td>1</td>\n",
       "      <td>1</td>\n",
       "      <td>1</td>\n",
       "      <td>1</td>\n",
       "      <td>1</td>\n",
       "      <td>1</td>\n",
       "      <td>1</td>\n",
       "      <td>1</td>\n",
       "      <td>1</td>\n",
       "      <td>...</td>\n",
       "      <td>1</td>\n",
       "      <td>1</td>\n",
       "      <td>1</td>\n",
       "      <td>1</td>\n",
       "      <td>1</td>\n",
       "      <td>1</td>\n",
       "      <td>1</td>\n",
       "      <td>1</td>\n",
       "      <td>1</td>\n",
       "      <td>1</td>\n",
       "    </tr>\n",
       "    <tr>\n",
       "      <th>3</th>\n",
       "      <td>59</td>\n",
       "      <td>59</td>\n",
       "      <td>59</td>\n",
       "      <td>59</td>\n",
       "      <td>59</td>\n",
       "      <td>59</td>\n",
       "      <td>59</td>\n",
       "      <td>59</td>\n",
       "      <td>59</td>\n",
       "      <td>59</td>\n",
       "      <td>...</td>\n",
       "      <td>59</td>\n",
       "      <td>59</td>\n",
       "      <td>59</td>\n",
       "      <td>59</td>\n",
       "      <td>59</td>\n",
       "      <td>59</td>\n",
       "      <td>59</td>\n",
       "      <td>59</td>\n",
       "      <td>59</td>\n",
       "      <td>59</td>\n",
       "    </tr>\n",
       "    <tr>\n",
       "      <th>4</th>\n",
       "      <td>8</td>\n",
       "      <td>8</td>\n",
       "      <td>8</td>\n",
       "      <td>8</td>\n",
       "      <td>8</td>\n",
       "      <td>8</td>\n",
       "      <td>8</td>\n",
       "      <td>8</td>\n",
       "      <td>8</td>\n",
       "      <td>8</td>\n",
       "      <td>...</td>\n",
       "      <td>8</td>\n",
       "      <td>8</td>\n",
       "      <td>8</td>\n",
       "      <td>8</td>\n",
       "      <td>8</td>\n",
       "      <td>8</td>\n",
       "      <td>8</td>\n",
       "      <td>8</td>\n",
       "      <td>8</td>\n",
       "      <td>8</td>\n",
       "    </tr>\n",
       "    <tr>\n",
       "      <th>...</th>\n",
       "      <td>...</td>\n",
       "      <td>...</td>\n",
       "      <td>...</td>\n",
       "      <td>...</td>\n",
       "      <td>...</td>\n",
       "      <td>...</td>\n",
       "      <td>...</td>\n",
       "      <td>...</td>\n",
       "      <td>...</td>\n",
       "      <td>...</td>\n",
       "      <td>...</td>\n",
       "      <td>...</td>\n",
       "      <td>...</td>\n",
       "      <td>...</td>\n",
       "      <td>...</td>\n",
       "      <td>...</td>\n",
       "      <td>...</td>\n",
       "      <td>...</td>\n",
       "      <td>...</td>\n",
       "      <td>...</td>\n",
       "      <td>...</td>\n",
       "    </tr>\n",
       "    <tr>\n",
       "      <th>224</th>\n",
       "      <td>6</td>\n",
       "      <td>6</td>\n",
       "      <td>6</td>\n",
       "      <td>6</td>\n",
       "      <td>6</td>\n",
       "      <td>6</td>\n",
       "      <td>6</td>\n",
       "      <td>6</td>\n",
       "      <td>6</td>\n",
       "      <td>6</td>\n",
       "      <td>...</td>\n",
       "      <td>6</td>\n",
       "      <td>6</td>\n",
       "      <td>6</td>\n",
       "      <td>6</td>\n",
       "      <td>6</td>\n",
       "      <td>6</td>\n",
       "      <td>6</td>\n",
       "      <td>6</td>\n",
       "      <td>6</td>\n",
       "      <td>6</td>\n",
       "    </tr>\n",
       "    <tr>\n",
       "      <th>236</th>\n",
       "      <td>6</td>\n",
       "      <td>6</td>\n",
       "      <td>6</td>\n",
       "      <td>6</td>\n",
       "      <td>6</td>\n",
       "      <td>6</td>\n",
       "      <td>6</td>\n",
       "      <td>6</td>\n",
       "      <td>6</td>\n",
       "      <td>6</td>\n",
       "      <td>...</td>\n",
       "      <td>6</td>\n",
       "      <td>6</td>\n",
       "      <td>6</td>\n",
       "      <td>6</td>\n",
       "      <td>6</td>\n",
       "      <td>6</td>\n",
       "      <td>6</td>\n",
       "      <td>6</td>\n",
       "      <td>6</td>\n",
       "      <td>6</td>\n",
       "    </tr>\n",
       "    <tr>\n",
       "      <th>330</th>\n",
       "      <td>1</td>\n",
       "      <td>1</td>\n",
       "      <td>1</td>\n",
       "      <td>1</td>\n",
       "      <td>1</td>\n",
       "      <td>1</td>\n",
       "      <td>1</td>\n",
       "      <td>1</td>\n",
       "      <td>1</td>\n",
       "      <td>1</td>\n",
       "      <td>...</td>\n",
       "      <td>1</td>\n",
       "      <td>1</td>\n",
       "      <td>1</td>\n",
       "      <td>1</td>\n",
       "      <td>1</td>\n",
       "      <td>1</td>\n",
       "      <td>1</td>\n",
       "      <td>1</td>\n",
       "      <td>1</td>\n",
       "      <td>1</td>\n",
       "    </tr>\n",
       "    <tr>\n",
       "      <th>379</th>\n",
       "      <td>9</td>\n",
       "      <td>9</td>\n",
       "      <td>9</td>\n",
       "      <td>9</td>\n",
       "      <td>9</td>\n",
       "      <td>9</td>\n",
       "      <td>9</td>\n",
       "      <td>9</td>\n",
       "      <td>9</td>\n",
       "      <td>9</td>\n",
       "      <td>...</td>\n",
       "      <td>9</td>\n",
       "      <td>9</td>\n",
       "      <td>9</td>\n",
       "      <td>9</td>\n",
       "      <td>9</td>\n",
       "      <td>9</td>\n",
       "      <td>9</td>\n",
       "      <td>9</td>\n",
       "      <td>9</td>\n",
       "      <td>9</td>\n",
       "    </tr>\n",
       "    <tr>\n",
       "      <th>391</th>\n",
       "      <td>45</td>\n",
       "      <td>45</td>\n",
       "      <td>45</td>\n",
       "      <td>45</td>\n",
       "      <td>45</td>\n",
       "      <td>45</td>\n",
       "      <td>45</td>\n",
       "      <td>45</td>\n",
       "      <td>45</td>\n",
       "      <td>45</td>\n",
       "      <td>...</td>\n",
       "      <td>45</td>\n",
       "      <td>45</td>\n",
       "      <td>45</td>\n",
       "      <td>45</td>\n",
       "      <td>45</td>\n",
       "      <td>45</td>\n",
       "      <td>45</td>\n",
       "      <td>45</td>\n",
       "      <td>45</td>\n",
       "      <td>45</td>\n",
       "    </tr>\n",
       "  </tbody>\n",
       "</table>\n",
       "<p>105 rows × 38 columns</p>\n",
       "</div>"
      ],
      "text/plain": [
       "                      hotel  is_canceled  lead_time  arrival_date_year  \\\n",
       "days_in_waiting_list                                                     \n",
       "0                     41698        41698      41698              41698   \n",
       "1                         3            3          3                  3   \n",
       "2                         1            1          1                  1   \n",
       "3                        59           59         59                 59   \n",
       "4                         8            8          8                  8   \n",
       "...                     ...          ...        ...                ...   \n",
       "224                       6            6          6                  6   \n",
       "236                       6            6          6                  6   \n",
       "330                       1            1          1                  1   \n",
       "379                       9            9          9                  9   \n",
       "391                      45           45         45                 45   \n",
       "\n",
       "                      arrival_date_month  arrival_date_week_number  \\\n",
       "days_in_waiting_list                                                 \n",
       "0                                  41698                     41698   \n",
       "1                                      3                         3   \n",
       "2                                      1                         1   \n",
       "3                                     59                        59   \n",
       "4                                      8                         8   \n",
       "...                                  ...                       ...   \n",
       "224                                    6                         6   \n",
       "236                                    6                         6   \n",
       "330                                    1                         1   \n",
       "379                                    9                         9   \n",
       "391                                   45                        45   \n",
       "\n",
       "                      arrival_date_day_of_month  stays_in_weekend_nights  \\\n",
       "days_in_waiting_list                                                       \n",
       "0                                         41698                    41698   \n",
       "1                                             3                        3   \n",
       "2                                             1                        1   \n",
       "3                                            59                       59   \n",
       "4                                             8                        8   \n",
       "...                                         ...                      ...   \n",
       "224                                           6                        6   \n",
       "236                                           6                        6   \n",
       "330                                           1                        1   \n",
       "379                                           9                        9   \n",
       "391                                          45                       45   \n",
       "\n",
       "                      stays_in_week_nights  adults  ...  \\\n",
       "days_in_waiting_list                                ...   \n",
       "0                                    41698   41698  ...   \n",
       "1                                        3       3  ...   \n",
       "2                                        1       1  ...   \n",
       "3                                       59      59  ...   \n",
       "4                                        8       8  ...   \n",
       "...                                    ...     ...  ...   \n",
       "224                                      6       6  ...   \n",
       "236                                      6       6  ...   \n",
       "330                                      1       1  ...   \n",
       "379                                      9       9  ...   \n",
       "391                                     45      45  ...   \n",
       "\n",
       "                      total_of_special_requests  reservation_status  \\\n",
       "days_in_waiting_list                                                  \n",
       "0                                         41698               41698   \n",
       "1                                             3                   3   \n",
       "2                                             1                   1   \n",
       "3                                            59                  59   \n",
       "4                                             8                   8   \n",
       "...                                         ...                 ...   \n",
       "224                                           6                   6   \n",
       "236                                           6                   6   \n",
       "330                                           1                   1   \n",
       "379                                           9                   9   \n",
       "391                                          45                  45   \n",
       "\n",
       "                      reservation_status_date   name  email  phone-number  \\\n",
       "days_in_waiting_list                                                        \n",
       "0                                       41698  41698  41698         41698   \n",
       "1                                           3      3      3             3   \n",
       "2                                           1      1      1             1   \n",
       "3                                          59     59     59            59   \n",
       "4                                           8      8      8             8   \n",
       "...                                       ...    ...    ...           ...   \n",
       "224                                         6      6      6             6   \n",
       "236                                         6      6      6             6   \n",
       "330                                         1      1      1             1   \n",
       "379                                         9      9      9             9   \n",
       "391                                        45     45     45            45   \n",
       "\n",
       "                      credit_card  arrival_date  guests  \\\n",
       "days_in_waiting_list                                      \n",
       "0                           41698         41698   41698   \n",
       "1                               3             3       3   \n",
       "2                               1             1       1   \n",
       "3                              59            59      59   \n",
       "4                               8             8       8   \n",
       "...                           ...           ...     ...   \n",
       "224                             6             6       6   \n",
       "236                             6             6       6   \n",
       "330                             1             1       1   \n",
       "379                             9             9       9   \n",
       "391                            45            45      45   \n",
       "\n",
       "                      arrival_date_month_num  \n",
       "days_in_waiting_list                          \n",
       "0                                      41698  \n",
       "1                                          3  \n",
       "2                                          1  \n",
       "3                                         59  \n",
       "4                                          8  \n",
       "...                                      ...  \n",
       "224                                        6  \n",
       "236                                        6  \n",
       "330                                        1  \n",
       "379                                        9  \n",
       "391                                       45  \n",
       "\n",
       "[105 rows x 38 columns]"
      ]
     },
     "execution_count": 664,
     "metadata": {},
     "output_type": "execute_result"
    }
   ],
   "source": [
    "waiting_list_canceled = df[df[\"is_canceled\"]==1].groupby(\"days_in_waiting_list\").count()\n",
    "waiting_list_canceled"
   ]
  }
 ],
 "metadata": {
  "kernelspec": {
   "display_name": "Python 3",
   "language": "python",
   "name": "python3"
  },
  "language_info": {
   "codemirror_mode": {
    "name": "ipython",
    "version": 3
   },
   "file_extension": ".py",
   "mimetype": "text/x-python",
   "name": "python",
   "nbconvert_exporter": "python",
   "pygments_lexer": "ipython3",
   "version": "3.9.13"
  }
 },
 "nbformat": 4,
 "nbformat_minor": 1
}